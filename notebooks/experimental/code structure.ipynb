{
 "cells": [
  {
   "cell_type": "markdown",
   "metadata": {},
   "source": [
    "# thoughts for the food_recipes code"
   ]
  },
  {
   "cell_type": "markdown",
   "metadata": {},
   "source": [
    "import scrapy"
   ]
  },
  {
   "cell_type": "markdown",
   "metadata": {},
   "source": [
    "- the tool will have a list from which you can choose the ingredients (via checkbox)\n"
   ]
  },
  {
   "cell_type": "markdown",
   "metadata": {},
   "source": [
    "#1. the choice has to be stored in a seperate list for the matching part\n",
    "    \n",
    "    -> will Karolina create the list?\n",
    "    -> or do I have to pull the data via coding and creating the list on my own (list.append) (https://stackoverflow.com/questions/9931827/how-to-get-the-list-of-text-values-of-multiple-checkbuttons-in-tkinter-in-python)\n",
    "\n",
    "      AvailableIngredientlist = (meat, tomato, mustard)\n",
    "      countAvailableIngredients = number of chosen igredients\n",
    "\n",
    "\n",
    "#2. Recipes need to be pulled from supercook.com to have something to match to via scrapy (however scrapy needs some html knowledge to pull the correct data) --> Alternatives?\n",
    "    \n",
    "    -> how will this be stored? can we limitize? --> recipelist\n",
    "    -> the object type is a list of lists (recipes : ingredients) https://stackoverflow.com/questions/11487049/python-list-of-lists\n",
    "\n",
    "      recipelist = (recipe 1 (), recipe 2(), ...)\n",
    "      recipe 1 = (ingredient 1, ingredient 2, ...)\n",
    "\n",
    "#3. For Loop to match the ingredients list with the recipe \n",
    "    \n",
    "    \n",
    "    matchfactor = 0\n",
    "    for recipes in recipelist\n",
    "        if ingredients match AvailableIngredientlist\n",
    "            matchfactor = n +=1 & \"/countAvailableIngredients are part of this recipe\"\n",
    "        \n",
    "    insert a break? to stop the loop under a certain condition?\n",
    "\n",
    "#4. Output useful-recipes sorted by highest number of matchfactor/countAvailableIngredients \n",
    "    \n",
    "    -> can we sort automatically from high to low?\n",
    "    -> if not, we can include following ranking system and then output\n",
    "    \n",
    "    \n",
    "    if matchfactor/countAvailableIngredients == 1\n",
    "        flag recipe as \"A\"\n",
    "    elif float(matchfactor/countAvailabelIngredients) <1 AND float(matchfactor/countAvailabelIngredients) >= 0,5\n",
    "        flag recipe as \"B\"\n",
    "    elif float(matchfactor/countAvailabelIngredients) <0,5 AND float(matchfactor/countAvailabelIngredients) > 0\n",
    "    elif float(matchfactor/countAvailabelIngredients) == 0\n",
    "        flag recipe as \"C\"\n",
    "  \n",
    "        \n"
   ]
  },
  {
   "cell_type": "code",
   "execution_count": null,
   "metadata": {},
   "outputs": [],
   "source": []
  }
 ],
 "metadata": {
  "kernelspec": {
   "display_name": "Python 3",
   "language": "python",
   "name": "python3"
  },
  "language_info": {
   "codemirror_mode": {
    "name": "ipython",
    "version": 3
   },
   "file_extension": ".py",
   "mimetype": "text/x-python",
   "name": "python",
   "nbconvert_exporter": "python",
   "pygments_lexer": "ipython3",
   "version": "3.6.5"
  }
 },
 "nbformat": 4,
 "nbformat_minor": 2
}
