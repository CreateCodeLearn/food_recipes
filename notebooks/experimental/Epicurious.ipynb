{
 "cells": [
  {
   "cell_type": "markdown",
   "metadata": {},
   "source": [
    "# [Epicurious](https://www.epicurious.com/)"
   ]
  },
  {
   "cell_type": "markdown",
   "metadata": {},
   "source": [
    "## Load the data"
   ]
  },
  {
   "cell_type": "code",
   "execution_count": null,
   "metadata": {},
   "outputs": [],
   "source": [
    "\n",
    "\n",
    "    "
   ]
  },
  {
   "cell_type": "code",
   "execution_count": null,
   "metadata": {},
   "outputs": [],
   "source": [
    "import json"
   ]
  },
  {
   "cell_type": "code",
   "execution_count": 2,
   "metadata": {},
   "outputs": [],
   "source": [
    "filepath = \"./data/epicurious-recipes.json\""
   ]
  },
  {
   "cell_type": "code",
   "execution_count": 3,
   "metadata": {},
   "outputs": [],
   "source": [
    "# https://www.heise.de/developer/artikel/Analysieren-von-JSON-Dateien-mit-Python-3240513.html?seite=all\n",
    "with open(filepath, encoding='utf-8') as f:\n",
    "    data = (line.strip() for line in f) #Erzeugt Generator Objekt\n",
    "    data_json = \"[{0}]\".format(','.join(data))\n",
    "\n",
    "data = json.loads(data_json)"
   ]
  },
  {
   "cell_type": "code",
   "execution_count": 4,
   "metadata": {},
   "outputs": [
    {
     "data": {
      "text/plain": [
       "34756"
      ]
     },
     "execution_count": 4,
     "metadata": {},
     "output_type": "execute_result"
    }
   ],
   "source": [
    "len(data)"
   ]
  },
  {
   "cell_type": "code",
   "execution_count": 26,
   "metadata": {},
   "outputs": [
    {
     "data": {
      "text/plain": [
       "-999"
      ]
     },
     "execution_count": 26,
     "metadata": {},
     "output_type": "execute_result"
    }
   ],
   "source": [
    "data[757].get(\"ingredients\", -999)"
   ]
  },
  {
   "cell_type": "markdown",
   "metadata": {},
   "source": [
    "## Unique Ingredients"
   ]
  },
  {
   "cell_type": "code",
   "execution_count": 9,
   "metadata": {},
   "outputs": [
    {
     "data": {
      "text/plain": [
       "['1 tablespoons yellow mustard seeds',\n",
       " '1 tablespoons brown mustard seeds',\n",
       " '1 1/2 teaspoons coriander seeds',\n",
       " '1 cup apple cider vinegar',\n",
       " '2/3 cup kosher salt',\n",
       " '1/3 cup sugar',\n",
       " '1/4 cup chopped fresh dill',\n",
       " '8 skinless, boneless chicken thighs (about 3 pounds), halved, quartered if large',\n",
       " 'Vegetable oil (for frying; about 10 cups)',\n",
       " '2 cups buttermilk',\n",
       " '2 cups all-purpose flour',\n",
       " 'Kosher salt',\n",
       " 'Honey, flaky sea salt (such as Maldon), toasted benne or sesame seeds, hot sauce (for serving)',\n",
       " 'A deep-fry thermometer']"
      ]
     },
     "execution_count": 9,
     "metadata": {},
     "output_type": "execute_result"
    }
   ],
   "source": [
    "data[0][\"ingredients\"]"
   ]
  },
  {
   "cell_type": "code",
   "execution_count": 10,
   "metadata": {},
   "outputs": [
    {
     "data": {
      "text/plain": [
       "['1 tablespoons yellow mustard seeds',\n",
       " '1 tablespoons brown mustard seeds',\n",
       " '1 1/2 teaspoons coriander seeds',\n",
       " '1 cup apple cider vinegar',\n",
       " '2/3 cup kosher salt',\n",
       " '1/3 cup sugar',\n",
       " '1/4 cup chopped fresh dill',\n",
       " '8 skinless, boneless chicken thighs (about 3 pounds), halved, quartered if large',\n",
       " 'Vegetable oil (for frying; about 10 cups)',\n",
       " '2 cups buttermilk',\n",
       " '2 cups all-purpose flour',\n",
       " 'Kosher salt',\n",
       " 'Honey, flaky sea salt (such as Maldon), toasted benne or sesame seeds, hot sauce (for serving)',\n",
       " 'A deep-fry thermometer']"
      ]
     },
     "execution_count": 10,
     "metadata": {},
     "output_type": "execute_result"
    }
   ],
   "source": [
    "ingredients_lines = [i for i in data[0][\"ingredients\"]]\n",
    "ingredients_lines"
   ]
  },
  {
   "cell_type": "code",
   "execution_count": 11,
   "metadata": {},
   "outputs": [
    {
     "data": {
      "text/plain": [
       "'1 tablespoons yellow mustard seeds 1 tablespoons brown mustard seeds 1 1/2 teaspoons coriander seeds 1 cup apple cider vinegar 2/3 cup kosher salt 1/3 cup sugar 1/4 cup chopped fresh dill 8 skinless, boneless chicken thighs (about 3 pounds), halved, quartered if large Vegetable oil (for frying; about 10 cups) 2 cups buttermilk 2 cups all-purpose flour Kosher salt Honey, flaky sea salt (such as Maldon), toasted benne or sesame seeds, hot sauce (for serving) A deep-fry thermometer'"
      ]
     },
     "execution_count": 11,
     "metadata": {},
     "output_type": "execute_result"
    }
   ],
   "source": [
    "ingredients_text = \" \".join([i for i in data[0][\"ingredients\"]])\n",
    "ingredients_text"
   ]
  },
  {
   "cell_type": "code",
   "execution_count": 12,
   "metadata": {},
   "outputs": [
    {
     "data": {
      "text/plain": [
       "['1',\n",
       " 'tablespoons',\n",
       " 'yellow',\n",
       " 'mustard',\n",
       " 'seeds',\n",
       " '1',\n",
       " 'tablespoons',\n",
       " 'brown',\n",
       " 'mustard',\n",
       " 'seeds',\n",
       " '1',\n",
       " '1/2',\n",
       " 'teaspoons',\n",
       " 'coriander',\n",
       " 'seeds',\n",
       " '1',\n",
       " 'cup',\n",
       " 'apple',\n",
       " 'cider',\n",
       " 'vinegar',\n",
       " '2/3',\n",
       " 'cup',\n",
       " 'kosher',\n",
       " 'salt',\n",
       " '1/3',\n",
       " 'cup',\n",
       " 'sugar',\n",
       " '1/4',\n",
       " 'cup',\n",
       " 'chopped',\n",
       " 'fresh',\n",
       " 'dill',\n",
       " '8',\n",
       " 'skinless,',\n",
       " 'boneless',\n",
       " 'chicken',\n",
       " 'thighs',\n",
       " '(about',\n",
       " '3',\n",
       " 'pounds),',\n",
       " 'halved,',\n",
       " 'quartered',\n",
       " 'if',\n",
       " 'large',\n",
       " 'Vegetable',\n",
       " 'oil',\n",
       " '(for',\n",
       " 'frying;',\n",
       " 'about',\n",
       " '10',\n",
       " 'cups)',\n",
       " '2',\n",
       " 'cups',\n",
       " 'buttermilk',\n",
       " '2',\n",
       " 'cups',\n",
       " 'all-purpose',\n",
       " 'flour',\n",
       " 'Kosher',\n",
       " 'salt',\n",
       " 'Honey,',\n",
       " 'flaky',\n",
       " 'sea',\n",
       " 'salt',\n",
       " '(such',\n",
       " 'as',\n",
       " 'Maldon),',\n",
       " 'toasted',\n",
       " 'benne',\n",
       " 'or',\n",
       " 'sesame',\n",
       " 'seeds,',\n",
       " 'hot',\n",
       " 'sauce',\n",
       " '(for',\n",
       " 'serving)',\n",
       " 'A',\n",
       " 'deep-fry',\n",
       " 'thermometer']"
      ]
     },
     "execution_count": 12,
     "metadata": {},
     "output_type": "execute_result"
    }
   ],
   "source": [
    "ingredients_splitted = ingredients_text.split()\n",
    "ingredients_splitted"
   ]
  },
  {
   "cell_type": "code",
   "execution_count": 13,
   "metadata": {},
   "outputs": [
    {
     "data": {
      "text/plain": [
       "['1',\n",
       " 'tablespoons',\n",
       " 'yellow',\n",
       " 'mustard',\n",
       " 'seeds',\n",
       " '1',\n",
       " 'tablespoons',\n",
       " 'brown',\n",
       " 'mustard',\n",
       " 'seeds',\n",
       " '1',\n",
       " 'teaspoons',\n",
       " 'coriander',\n",
       " 'seeds',\n",
       " '1',\n",
       " 'cup',\n",
       " 'apple',\n",
       " 'cider',\n",
       " 'vinegar',\n",
       " 'cup',\n",
       " 'kosher',\n",
       " 'salt',\n",
       " 'cup',\n",
       " 'sugar',\n",
       " 'cup',\n",
       " 'chopped',\n",
       " 'fresh',\n",
       " 'dill',\n",
       " '8',\n",
       " 'boneless',\n",
       " 'chicken',\n",
       " 'thighs',\n",
       " '3',\n",
       " 'quartered',\n",
       " 'large',\n",
       " 'Vegetable',\n",
       " 'oil',\n",
       " 'about',\n",
       " '10',\n",
       " '2',\n",
       " 'cups',\n",
       " 'buttermilk',\n",
       " '2',\n",
       " 'cups',\n",
       " 'all-purpose',\n",
       " 'flour',\n",
       " 'Kosher',\n",
       " 'salt',\n",
       " 'flaky',\n",
       " 'sea',\n",
       " 'salt',\n",
       " 'as',\n",
       " 'toasted',\n",
       " 'benne',\n",
       " 'or',\n",
       " 'sesame',\n",
       " 'hot',\n",
       " 'sauce',\n",
       " 'A',\n",
       " 'deep-fry',\n",
       " 'thermometer']"
      ]
     },
     "execution_count": 13,
     "metadata": {},
     "output_type": "execute_result"
    }
   ],
   "source": [
    "from nltk.corpus import wordnet, stopwords\n",
    "ingredients_words = [w for w in ingredients_splitted if wordnet.synsets(w)]\n",
    "ingredients_words"
   ]
  },
  {
   "cell_type": "code",
   "execution_count": 14,
   "metadata": {},
   "outputs": [
    {
     "data": {
      "text/plain": [
       "['1',\n",
       " 'tablespoons',\n",
       " 'yellow',\n",
       " 'mustard',\n",
       " 'seeds',\n",
       " '1',\n",
       " 'tablespoons',\n",
       " 'brown',\n",
       " 'mustard',\n",
       " 'seeds',\n",
       " '1',\n",
       " 'teaspoons',\n",
       " 'coriander',\n",
       " 'seeds',\n",
       " '1',\n",
       " 'cup',\n",
       " 'apple',\n",
       " 'cider',\n",
       " 'vinegar',\n",
       " 'cup',\n",
       " 'kosher',\n",
       " 'salt',\n",
       " 'cup',\n",
       " 'sugar',\n",
       " 'cup',\n",
       " 'chopped',\n",
       " 'fresh',\n",
       " 'dill',\n",
       " '8',\n",
       " 'boneless',\n",
       " 'chicken',\n",
       " 'thighs',\n",
       " '3',\n",
       " 'quartered',\n",
       " 'large',\n",
       " 'Vegetable',\n",
       " 'oil',\n",
       " '10',\n",
       " '2',\n",
       " 'cups',\n",
       " 'buttermilk',\n",
       " '2',\n",
       " 'cups',\n",
       " 'all-purpose',\n",
       " 'flour',\n",
       " 'Kosher',\n",
       " 'salt',\n",
       " 'flaky',\n",
       " 'sea',\n",
       " 'salt',\n",
       " 'toasted',\n",
       " 'benne',\n",
       " 'sesame',\n",
       " 'hot',\n",
       " 'sauce',\n",
       " 'A',\n",
       " 'deep-fry',\n",
       " 'thermometer']"
      ]
     },
     "execution_count": 14,
     "metadata": {},
     "output_type": "execute_result"
    }
   ],
   "source": [
    "ingredients_filtered = [word for word in ingredients_words if word not in stopwords.words('english')]\n",
    "ingredients_filtered"
   ]
  },
  {
   "cell_type": "code",
   "execution_count": 15,
   "metadata": {},
   "outputs": [
    {
     "data": {
      "text/plain": [
       "{'1',\n",
       " '10',\n",
       " '2',\n",
       " '3',\n",
       " '8',\n",
       " 'A',\n",
       " 'Kosher',\n",
       " 'Vegetable',\n",
       " 'all-purpose',\n",
       " 'apple',\n",
       " 'benne',\n",
       " 'boneless',\n",
       " 'brown',\n",
       " 'buttermilk',\n",
       " 'chicken',\n",
       " 'chopped',\n",
       " 'cider',\n",
       " 'coriander',\n",
       " 'cup',\n",
       " 'cups',\n",
       " 'deep-fry',\n",
       " 'dill',\n",
       " 'flaky',\n",
       " 'flour',\n",
       " 'fresh',\n",
       " 'hot',\n",
       " 'kosher',\n",
       " 'large',\n",
       " 'mustard',\n",
       " 'oil',\n",
       " 'quartered',\n",
       " 'salt',\n",
       " 'sauce',\n",
       " 'sea',\n",
       " 'seeds',\n",
       " 'sesame',\n",
       " 'sugar',\n",
       " 'tablespoons',\n",
       " 'teaspoons',\n",
       " 'thermometer',\n",
       " 'thighs',\n",
       " 'toasted',\n",
       " 'vinegar',\n",
       " 'yellow'}"
      ]
     },
     "execution_count": 15,
     "metadata": {},
     "output_type": "execute_result"
    }
   ],
   "source": [
    "ingredients_unique = set(ingredients_filtered)\n",
    "ingredients_unique"
   ]
  },
  {
   "cell_type": "markdown",
   "metadata": {},
   "source": [
    "## User imput"
   ]
  },
  {
   "cell_type": "code",
   "execution_count": 16,
   "metadata": {},
   "outputs": [
    {
     "data": {
      "text/plain": [
       "{'beer', 'flour', 'sugar', 'vinegar'}"
      ]
     },
     "execution_count": 16,
     "metadata": {},
     "output_type": "execute_result"
    }
   ],
   "source": [
    "user = set([\"vinegar\", \"sugar\", \"flour\", \"beer\"])\n",
    "user "
   ]
  },
  {
   "cell_type": "markdown",
   "metadata": {},
   "source": [
    "## `set` operations"
   ]
  },
  {
   "cell_type": "code",
   "execution_count": 17,
   "metadata": {},
   "outputs": [
    {
     "data": {
      "text/plain": [
       "{'beer'}"
      ]
     },
     "execution_count": 17,
     "metadata": {},
     "output_type": "execute_result"
    }
   ],
   "source": [
    "user.difference(ingredients_unique)"
   ]
  }
 ],
 "metadata": {
  "kernelspec": {
   "display_name": "Python 3",
   "language": "python",
   "name": "python3"
  },
  "language_info": {
   "codemirror_mode": {
    "name": "ipython",
    "version": 3
   },
   "file_extension": ".py",
   "mimetype": "text/x-python",
   "name": "python",
   "nbconvert_exporter": "python",
   "pygments_lexer": "ipython3",
   "version": "3.6.5"
  }
 },
 "nbformat": 4,
 "nbformat_minor": 2
}
